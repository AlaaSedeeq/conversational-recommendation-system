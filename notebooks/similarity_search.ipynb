{
 "cells": [
  {
   "cell_type": "code",
   "execution_count": 1,
   "id": "df6becf5-e6eb-4550-8dd3-ee9eb5c3c4f3",
   "metadata": {},
   "outputs": [],
   "source": [
    "# # %%capture\n",
    "# !pip install sentence-transformers langchain_cohere cohere"
   ]
  },
  {
   "cell_type": "code",
   "execution_count": 4,
   "id": "334c3c89-8ecc-4474-9cb1-ffbff550553c",
   "metadata": {},
   "outputs": [
    {
     "name": "stdout",
     "output_type": "stream",
     "text": [
      "Import successful!\n"
     ]
    }
   ],
   "source": [
    "# Import\n",
    "import os\n",
    "import sys\n",
    "\n",
    "# Change to the project root directory\n",
    "os.chdir('/home/alaa/repos/seez-assignment')\n",
    "current_dir = os.getcwd()\n",
    "if current_dir not in sys.path:\n",
    "    sys.path.insert(0, current_dir)\n",
    "\n",
    "try:\n",
    "    from src.utils.tools import read_dialogue\n",
    "    print(\"Import successful!\")\n",
    "except:\n",
    "    print(\"Failed\")\n",
    "\n",
    "import os\n",
    "\n",
    "from src.api_key import OPENAI_API_KEY\n",
    "\n",
    "os.environ[\"OPENAI_API_KEY\"] = OPENAI_API_KEY"
   ]
  },
  {
   "cell_type": "code",
   "execution_count": 5,
   "id": "1163949e-4388-43e6-9156-ce7d9cf3fd1e",
   "metadata": {},
   "outputs": [],
   "source": [
    "from pydantic import BaseModel, Field\n",
    "from typing import Dict, Any, List\n",
    "\n",
    "class SearchEngineResponse(BaseModel):\n",
    "    status: bool\n",
    "    response: List\n",
    "    # [SearchResult]\n",
    "\n",
    "    class Config:\n",
    "        arbitrary_types_allowed = True"
   ]
  },
  {
   "cell_type": "code",
   "execution_count": 8,
   "id": "104efa10-be3c-4f57-999c-cf0987f9d6f9",
   "metadata": {},
   "outputs": [],
   "source": [
    "# pip install cohere"
   ]
  },
  {
   "cell_type": "code",
   "execution_count": 9,
   "id": "3ff2a512-0a59-4966-b9ba-9951d7aa2408",
   "metadata": {},
   "outputs": [],
   "source": [
    "import re\n",
    "import os\n",
    "import warnings\n",
    "import numpy as np\n",
    "from typing import Optional, List, Tuple\n",
    "\n",
    "from langchain_openai import OpenAIEmbeddings\n",
    "from langchain.embeddings.huggingface import HuggingFaceEmbeddings\n",
    "from langchain.docstore.document import Document\n",
    "from langchain_community.vectorstores.faiss import FAISS\n",
    "\n",
    "from src.common.logger import logger\n",
    "from src.common.config import ConfigBase\n",
    "\n",
    "from src.utils.tools import read_dialogue, read_user_data, read_jsonl, read_json, get_conversation_by_id\n",
    "\n",
    "# from src.infrastructure.embeddings.base_embedding import EmbeddingBase\n",
    "# from src.infrastructure.search_engine.base_engines import SimilaritySearchEngine\n",
    "# from ..types import SearchEngineResponse\n",
    "\n",
    "class FAISS_Search(SimilaritySearchEngine):\n",
    "    def __init__(\n",
    "            self,\n",
    "        config: Optional[ConfigBase] = None,\n",
    "        encoder = None,\n",
    "        **kwargs\n",
    "        ) -> None:\n",
    "        super().__init__(config, encoder, **kwargs)\n",
    "        \n",
    "        self.logger = logger\n",
    "        self.data = None\n",
    "        self.vectorstore = None\n",
    "        self.embeddings_loaded = False\n",
    "        self.top_k = config.similarity_search.top_k\n",
    "\n",
    "    def load_embeddings(self) -> bool:\n",
    "        if os.path.exists(self.config.embeddings.vectordb_path):\n",
    "            self.vectorstore = FAISS.load_local(\n",
    "                self.config.embeddings.vectordb_path, \n",
    "                self.encoder, \n",
    "                allow_dangerous_deserialization=True)\n",
    "            self.embeddings_loaded = True\n",
    "            return True\n",
    "        else:\n",
    "            self.logger.error(f\"Embeddings not found: {self.config.embeddings.vectordb_path}\")\n",
    "            return self.embed_data()\n",
    "\n",
    "    def _read_data(self) -> List[Document]:\n",
    "        \n",
    "        path = self.config.data.conversations\n",
    "        docs = read_dialogue(path)\n",
    "        \n",
    "        pattern = r\"(\\d+)\\n\\n((?:User:.*?\\n\\nAgent:.*?(?:\\n\\n|$))+)\"\n",
    "        matches = re.findall(pattern, docs, re.DOTALL)\n",
    "\n",
    "        documents = []\n",
    "        for match in matches:\n",
    "            dialogue_number = match[0]\n",
    "            dialogue_content = match[1].strip()\n",
    "            metadata = {\"dialogue_number\": dialogue_number}\n",
    "            documents.append(Document(page_content=dialogue_content, metadata=metadata))\n",
    "\n",
    "        return documents\n",
    "\n",
    "    def embed_data(self) -> bool:\n",
    "        try:\n",
    "            self.logger.info(\"Reading the data\")\n",
    "            docs = self._read_data()\n",
    "            self.logger.info(\"Embedding the data\")\n",
    "            self.vectorstore = FAISS.from_documents(docs, self.encoder)\n",
    "            self.embeddings_loaded = True\n",
    "            self.logger.info(\"Saving the embeddings\")\n",
    "            self.save_embeddings()\n",
    "            return True\n",
    "\n",
    "        except Exception as e:\n",
    "            self.logger.error(f\"Failed to embed data: {e}\")\n",
    "            return False\n",
    "            \n",
    "    # def rerank(self, query: str, docs: List[Tuple[Document, np.float64]]):\n",
    "    #     import os        \n",
    "    #     if \"COHERE_API_KEY\" in os.environ:\n",
    "        \n",
    "    def save_embeddings(self) -> None:\n",
    "        if self.vectorstore:\n",
    "            self.vectorstore.save_local(self.config.embeddings.vectordb_path)\n",
    "            self.logger.info(\"Embeddings saved locally.\")\n",
    "        else:\n",
    "            self.logger.error(\"No vectorstore to save embeddings from.\")\n",
    "\n",
    "    def search(\n",
    "        self, \n",
    "        query: str, \n",
    "        filter_neg: bool = True, \n",
    "    ) -> SearchEngineResponse:\n",
    "\n",
    "        if not self.embeddings_loaded:\n",
    "            if not self.load_embeddings():\n",
    "                return SearchEngineResponse(status=False, response=[])\n",
    "\n",
    "        query = query.strip()\n",
    "        self.logger.info(f\"Searching for: {query[:100]} ...\")\n",
    "\n",
    "        with warnings.catch_warnings():\n",
    "            warnings.simplefilter(\"ignore\")\n",
    "            # try:\n",
    "            docs = self.vectorstore.similarity_search_with_relevance_scores(query, k=self.top_k)\n",
    "            docs = sorted(docs, key=lambda x: x[1], reverse=True)\n",
    "            \n",
    "            if filter_neg:\n",
    "                Hscore = docs[0][1]\n",
    "                if Hscore < 0.0:\n",
    "                    self.logger.info(\"No similar items found in the item list for item `{}`.\".format(query))\n",
    "                    return SearchEngineResponse(status=True, response=[])\n",
    "                qdocs = [d for d in docs if d[1] >= 0.0]\n",
    "            # if rerank:\n",
    "            #     docs = self.rerank(query, docs)\n",
    "            # else:\n",
    "            #     docs = [d for d in docs if d[1] >= self.config.min_similarity_thr]\n",
    "            #     qdocs = sorted(docs, key=lambda x: x[1], reverse=True)\n",
    "\n",
    "            return SearchEngineResponse(status=True, response=qdocs)\n",
    "\n",
    "            # except Exception as e:\n",
    "            #     self.logger.error(f\"Similarity search error: \\n{e}\")\n",
    "            #     return SearchEngineResponse(status=False, response=[])"
   ]
  },
  {
   "cell_type": "code",
   "execution_count": 10,
   "id": "80e26f10-f357-49bf-991f-0b3bc523c2f0",
   "metadata": {},
   "outputs": [
    {
     "name": "stdout",
     "output_type": "stream",
     "text": [
      "[2024-11-20 13:15:43,688: INFO: config: Config loaded successfully: config/config.yaml]\n",
      "[2024-11-20 13:15:43,839: INFO: 3707362177: Initialized SearchEngineBase!]\n"
     ]
    }
   ],
   "source": [
    "from src.common.config import load_config\n",
    "\n",
    "config = load_config()\n",
    "\n",
    "# embeddings = HuggingFaceEmbeddings(model_name=\"all-MiniLM-L6-v2\")\n",
    "\n",
    "ss = FAISS_Search(config)"
   ]
  },
  {
   "cell_type": "code",
   "execution_count": 37,
   "id": "46d2d00f-fd21-4283-a4ea-303b643cbb0d",
   "metadata": {},
   "outputs": [
    {
     "name": "stdout",
     "output_type": "stream",
     "text": [
      "[2024-11-20 10:15:24,558: INFO: _client: HTTP Request: POST https://api.openai.com/v1/embeddings \"HTTP/1.1 200 OK\"]\n"
     ]
    },
    {
     "data": {
      "text/plain": [
       "numpy.float64"
      ]
     },
     "execution_count": 37,
     "metadata": {},
     "output_type": "execute_result"
    }
   ],
   "source": [
    "# ss.search(\"looking for a classic romantic movie\")\n",
    "type(ss.vectorstore.similarity_search_with_relevance_scores(\"action thrilling for tom hanks\", 25)[0][1])"
   ]
  },
  {
   "cell_type": "code",
   "execution_count": 32,
   "id": "f9bf7e29-820b-44e7-9a8e-361ecadd7bea",
   "metadata": {},
   "outputs": [
    {
     "name": "stdout",
     "output_type": "stream",
     "text": [
      "[2024-11-19 22:24:13,925: INFO: 234237106: Searching for: recommend me a mystery movie ...]\n",
      "[2024-11-19 22:24:14,680: INFO: _client: HTTP Request: POST https://api.openai.com/v1/embeddings \"HTTP/1.1 200 OK\"]\n"
     ]
    },
    {
     "data": {
      "text/plain": [
       "SearchEngineResponse(status=True, response=[(Document(metadata={'dialogue_number': '7807'}, page_content='User: Hey, I\\'m a book lover and my name is John. I really enjoyed watching the movie \"Only Angels Have Wings\" on VHS. It had a great atmosphere and multiple storylines. Cary Grant\\'s performance in a darker role was impressive. I would definitely watch it again.\\n\\nAgent: Hi John! I\\'m glad you liked \"Only Angels Have Wings\". It\\'s a fantastic movie with a captivating atmosphere and talented actors. Is there anything specific you\\'d like a recommendation for?\\n\\nUser: Can you recommend another movie for me?\\n\\nAgent: Sure! How about \"And Then There Were None\" on VHS? It\\'s a gripping murder mystery. I read a review that described it as deliciously amusing with a perfect blend of comedy and eerie atmosphere. \\n\\nUser: Oh, I\\'ve already seen that movie before. Do you have any other recommendations?\\n\\nAgent: No problem! How about \"Gazebo\" on VHS? It\\'s a comedy involving a television producer, a blackmailer, and a peculiar pigeon. The movie offers a mix of broad farce and screwball comedy. I found a review that praised the performances and the clever dialogue.\\n\\nUser: Sorry, I\\'ve seen \"Gazebo\" too. Do you have any other suggestions?\\n\\nAgent: Alright, in that case, I recommend \"Mysterious Skin\". It\\'s a thought-provoking movie that tells the story of two boys who experience sexual abuse and their different paths in life. It received positive reviews for its moving portrayal of a difficult subject.\\n\\nUser: Sounds intriguing! I\\'ll give it a watch. Thank you for the recommendation.\\n\\nAgent: You\\'re welcome, John! I hope you enjoy \"Mysterious Skin\". If you have any more questions or need further recommendations, feel free to ask. Have a great day!'), 0.7710473185613623), (Document(metadata={'dialogue_number': '3558'}, page_content='User: Hey, Trevor Willsmer here! I recently watched \"An Affair of Love\" and it was fantastic. The performances were great, and the storyline was engaging.\\n\\nAgent: Hello Trevor! I\\'m glad to hear that you enjoyed \"An Affair of Love\". It\\'s indeed a captivating film. How can I assist you today?\\n\\nUser: I\\'m looking for some movie recommendations. What do you suggest?\\n\\nAgent: I recommend you watch \"The Fugitive / U.S. Marshals\". It\\'s a thrilling manhunt movie with a captivating storyline. I heard great things about it. \\n\\nUser: Oh, I\\'ve already seen \"The Fugitive / U.S. Marshals\". Do you have any other recommendations?\\n\\nAgent: In that case, I suggest you check out \"The Children Are Watching Us VHS\". It\\'s a powerful film set in Fascist Italy, portraying a child caught in the middle of his parents\\' dissolving marriage. It\\'s a touching and realistic story.\\n\\nUser: I\\'ve actually seen \"The Children Are Watching Us VHS\" before. Do you have any other recommendations?\\n\\nAgent: Alright, how about \"Act of Violence / Mystery Street\"? It\\'s a combination of two fantastic film-noir movies. The performances are outstanding, and the stories are gripping.\\n\\nUser: I\\'m not sure about that one. Can you give me more details about \"Act of Violence / Mystery Street\"?\\n\\nAgent: Certainly! \"Act of Violence\" features Ricardo Montalban as a sharp and witty police detective, while \"Mystery Street\" follows former wartime friends, played by Van Heflin and Robert Ryan, who share a dark secret. Both films are highly regarded and offer a thrilling and enjoyable experience.\\n\\nUser: Alright, I\\'ll give \"Act of Violence / Mystery Street\" a try. Thanks for the recommendation!\\n\\nAgent: You\\'re welcome! I hope you enjoy the movies. If you have any more questions or need further assistance, feel free to ask. Have a great time watching!\\n\\nUser: Thanks, I will. Goodbye!\\n\\nAgent: Goodbye, Trevor! Take care and enjoy your movie night!'), 0.7697786984211844), (Document(metadata={'dialogue_number': '4744'}, page_content='User: Hello! I absolutely loved the movie \"Age of Innocence VHS\". I\\'ve watched it three times already and I can\\'t get enough of it. It\\'s such a captivating film.\\n\\nAgent: That\\'s great to hear! It\\'s always a pleasure to find a movie that you truly enjoy. Is there anything specific you would like a recommendation for?\\n\\nUser: Yes, please! I\\'m looking for something new to watch. Any recommendations?\\n\\nAgent: I highly recommend the movie \"Jubal\". It\\'s a fantastic film that I believe you\\'ll enjoy. It has a great storyline and features amazing performances by Valerie French and Glen Ford.\\n\\nUser: Thank you for the recommendation, but I\\'ve already seen \"Jubal\", and I loved it. Do you have any other suggestions?\\n\\nAgent: Absolutely! How about checking out \"Mystery Classics V.13\"? It\\'s a film that you might like based on your previous preferences. It has received great reviews, such as one mentioning how entertaining it is without any explicit content.\\n\\nUser: Hmm, I\\'m not sure. Can you tell me more about \"Mystery Classics V.13\"?\\n\\nAgent: Of course! \"Mystery Classics V.13\" features Reginald Denny as a divorce lawyer with some witty lines. It\\'s a wonderful film to watch, especially if you want to avoid strong profanity or explicit scenes. The overall reviews have been very positive, praising the direction, cinematography, script, and the stunning performance by Michelle Pfifer.\\n\\nUser: That sounds intriguing. I\\'ll give it a try. Thank you for the recommendation!\\n\\nAgent: You\\'re welcome! If you need any more recommendations in the future, feel free to ask. Enjoy watching \"Mystery Classics V.13\"!\\n\\nUser: Thank you once again. I appreciate your help!\\n\\nAgent: It was my pleasure assisting you. Have a great day, Alyce!'), 0.7691157706409566), (Document(metadata={'dialogue_number': '6511'}, page_content=\"User: Hi, I recently watched Children of the Corn 666: Isaac's Return VHS and I didn't really enjoy it.\\n\\nAgent: Oh, I understand. In that case, I recommend checking out The Cat and the Canary. It's a Paramount Picture and it combines mystery and comedy. Bob Hope delivers great one-liners, making it an entertaining watch. However, the quality of the copy I have is not the best, but still watchable. \\n\\nUser: Thanks for the recommendation, but I've already seen The Cat and the Canary.\\n\\nAgent: I see. In that case, you might like Agatha Christie's Poirot: The Hollow. It's a classic Poirot mystery and the cast delivers believable performances. The cinematography is also top-notch. \\n\\nUser: That sounds interesting, I'll give it a try.\\n\\nAgent: Great! If you need any more recommendations, feel free to ask. \\n\\nUser: Thank you so much for your help!\\n\\nAgent: You're welcome! Enjoy your movie and feel free to come back if you need more assistance. Have a great day!\"), 0.7663620641466488), (Document(metadata={'dialogue_number': '6502'}, page_content='User: Hi, I heard you didn\\'t like The Ladykillers. What did you think about it?\\n\\nAgent: I\\'m used to automatically seeing anything associated with the Cohen Brothers. The previews for The Ladykillers made it look like a charming, Southern US, caper film. Sure enough, there were plenty of grey-haired folks in the theatre. I can\\'t imagine they expected the constant MF swearing from one of the characters. This is a remake of the 1955 hit UK film of the same name starring Peter Sellers and Alec Guinness. The new version relies on repetitive gag humor and the clash between a conservative Christian woman and a foul-mouthed, \"hippity-hop\" criminal, to get most of its laughs. Some of the other supporting cast members are nothing but dumb cliches (big, dumb jock, quiet, sly Communist Chinese General, etc.) Tom Hanks plays the role of ring leader as if he were a cartoon character. There\\'s really no intrigue or really good humor in this obvious Cohen Brothers sellout. Not a must-see film.\\n\\nUser: Hmm, I see. Can you recommend me something else?\\n\\nAgent: Sure! I recommend you to watch Scoop. This will bring to mind several other Allen films like Manhattan Murder Mystery, Curse Of the Jade Scorpion, and Broadway Danny Rose. This movie is really a fun experience for the viewer. Scarlett Johansen is great in it, as is Hugh Jackman. The script is witty and the action moves briskly along with beautiful shots of London as a bonus. For Allen fans, this will be a nice return to his comedic form following the much more serious Match Point.\\n\\nUser: Okay, I\\'ll give it a try without any specific reason.\\n\\nAgent: Great! If you need more recommendations, feel free to ask.\\n\\nUser: Thanks, but I think I\\'m good for now. I appreciate your help.\\n\\nAgent: You\\'re welcome! If you have any more questions in the future, feel free to ask. Have a great day!'), 0.7646132228145377), (Document(metadata={'dialogue_number': '6892'}, page_content='User: Hi there! I recently watched \"Survivor\" and I have to say, I was not impressed. The plot lacked plausibility and I wouldn\\'t recommend it to anyone. \\n\\nAgent: Oh, I see. If you didn\\'t enjoy \"Survivor,\" you might be interested in \"3 Days to Kill.\" It\\'s an action movie with an interesting premise. \\n\\nUser: No, thanks. I read a review for \"3 Days to Kill\" and it seems equally absurd. The whole CIA storyline and the lack of plausibility turned me off.\\n\\nAgent: I understand. How about this instead? You might like \"Mystery Science Theater 3000 - I Accuse My Parents VHS.\" It has received positive reviews and is known for its clever commentary on terrible movies.\\n\\nUser: That sounds intriguing! Could you tell me more about \"Mystery Science Theater 3000 - I Accuse My Parents VHS\"?\\n\\nAgent: Certainly! According to a review, it\\'s a hilarious movie with smart aleck movie critics. The film itself is a cautionary tale about permissive parents, and the sarcastic commentary adds a whole new level of entertainment.\\n\\nUser: That sounds perfect! I would love to watch \"Mystery Science Theater 3000 - I Accuse My Parents VHS.\"\\n\\nAgent: Great! I\\'m glad I could help. Is there anything else you\\'d like a recommendation for?\\n\\nUser: No, thank you. I really appreciate your assistance.\\n\\nAgent: You\\'re welcome! If you ever need more recommendations in the future, feel free to ask. Have a great day!'), 0.7634657116435559), (Document(metadata={'dialogue_number': '5529'}, page_content='User: Hi! I recently watched Mystery Classics: (The Shadow Strikes / A Shot In The Dark / Slightly Honorable / Shadows on the Stairs) and I absolutely loved them. They were great old mystery film noir movies, perfect for a Saturday night. Have you seen them?\\n\\nAgent: Oh, I\\'m glad you enjoyed those movies! I\\'m not familiar with them, but I can recommend something else if you\\'d like.\\n\\nUser: Sure, go ahead and recommend something.\\n\\nAgent: How about watching Homicidal? It\\'s a William Castle movie, a Psycho-type thriller with a great performance by Jean Arless playing both parts of the man and woman. I\\'ve heard positive reviews about it, like this one: \"Many viewers have stumbled into this kinky jigsaw puzzle of a thriller thinking they have a handle on it only to be pleasantly shocked and surprised.\" What do you think?\\n\\nUser: Oh, I\\'ve actually seen Homicidal already. It was pretty good, but not as good as some of Castle\\'s other movies.\\n\\nAgent: I understand. In that case, I suggest checking out The Mummy\\'s Hand / The Mummy\\'s Tomb Double Feature. They are classic movies, and if you enjoyed the original Mummy with Karloff, you might like these too. Here\\'s a review I found: \"I first saw these movies when I was a little kid and they have been favorites forever.\" What do you think?\\n\\nUser: Thanks for the recommendation, but I\\'ve already seen The Mummy\\'s Hand / The Mummy\\'s Tomb Double Feature. They\\'re great movies though.\\n\\nAgent: I see. In that case, you might be interested in Blink VHS. It\\'s an oldie but a goodie, a little movie that showcases the talent of the performers and directors. Here\\'s a review I found: \"Worth the time.\" What do you think?\\n\\nUser: I\\'m not sure. Can you tell me more about Blink VHS?\\n\\nAgent: Of course! Blink is a truly entertaining movie that may not be the most acclaimed, but it\\'s indicative of the talent involved. It\\'s worth watching to appreciate the performances and direction. Here\\'s a review I found: \"An Oldie but a goodie.\" Would you like to give it a try?\\n\\nUser: Alright, I\\'ll give Blink VHS a chance. Thanks for the recommendation!\\n\\nAgent: You\\'re welcome! I hope you enjoy watching Blink VHS. If you have any other questions or need more recommendations in the future, feel free to ask. Have a great time watching!'), 0.7627024322170236), (Document(metadata={'dialogue_number': '8336'}, page_content='User: Hello, I\\'m Revmov. I really enjoyed watching \"Big Miracle\" (ASIN: B005LAIGQE).\\n\\nAgent: Hi Revmov! I\\'m glad to hear that. \"Big Miracle\" is indeed a great movie. I agree with your review.\\n\\nUser: Can you recommend another movie for me?\\n\\nAgent: Sure! I think you might like \"November Man\" (ASIN: B00O1D37NO). It\\'s a spy thriller starring Pierce Brosnan. \\n\\nUser: That sounds interesting! Can you tell me more about the movie?\\n\\nAgent: Of course! \"November Man\" follows the story of a former spy who is brought back into action to rescue his former love, only to have her killed. It\\'s full of action, excitement, and plenty of twists. It\\'s a must-watch for spy movie and action fans. \\n\\nUser: Great! I\\'ll check it out without any hesitation.\\n\\nAgent: That\\'s wonderful! I hope you enjoy watching \"November Man\". If you have any more questions or need further recommendations, feel free to ask. Have a great day!'), 0.7588295793807818), (Document(metadata={'dialogue_number': '1604'}, page_content='User: Hello! I recently watched Identity and I really enjoyed it. The plot was clever and kept me guessing till the end. The reviews also mentioned that it\\'s based on an Agatha Christie novel, which made it even more intriguing.\\n\\nAgent: Hi there, glad to hear that you enjoyed Identity! It\\'s definitely a well-crafted mystery film. How can I assist you today?\\n\\nUser: I\\'m looking for some movie recommendations. Any suggestions?\\n\\nAgent: Certainly! I recommend checking out Lost Highway. It\\'s another intriguing film with a unique narrative style. The reviews describe it as a vivid nightmare journey, filled with suspense and unexpected twists.\\n\\nUser: Oh, I\\'ve actually seen Lost Highway before. It was quite mind-bending. Do you have any other recommendations?\\n\\nAgent: Of course! How about Time Out? It\\'s a slow-paced thriller that delves into the complexities of a man\\'s life and his pursuit of happiness. The reviews highlight the well-developed characters and the ingenious cinematography that enhances the overall quality of the film.\\n\\nUser: I appreciate the suggestion, but I\\'ve seen Time Out as well. Do you have any other recommendations?\\n\\nAgent: Absolutely! You might enjoy Good Bye Lenin! The reviews praise its depiction of the Soviet period and the partition of Germany, providing a lighthearted examination of the old communist world. It\\'s a delightful movie with a touch of nostalgia.\\n\\nUser: That sounds interesting! I haven\\'t seen Good Bye Lenin! yet, but based on the reviews, it seems like a movie worth watching.\\n\\nAgent: Great! I\\'m glad I could recommend something new to you. Enjoy watching Good Bye Lenin! If you have any more questions or need further assistance, feel free to ask. Have a great day!\\n\\nUser: Thank you! I\\'ll definitely check it out. Have a great day too!\\n\\n1605\\n\\nUser: Hi, I\\'m Dine Fuss. I really enjoyed watching \"Early Summer VHS\", it was a beautiful portrayal of a Japanese family in post-war Japan. The cinematography and the storyline were captivating.\\n\\nAgent: Hi Dine Fuss! I\\'m glad you liked \"Early Summer VHS\". It\\'s a wonderful film that explores the dynamics of a Japanese family during a time of societal change. What can I help you with today?\\n\\nUser: Can you recommend another movie for me to watch?\\n\\nAgent: Sure! I recommend \"28 Days Later\". It\\'s a gripping horror film that explores themes of hope and survival in a post-apocalyptic world. It has received great reviews, and I think you\\'ll enjoy it.\\n\\nUser: Oh, I\\'ve already seen \"28 Days Later\". Do you have any other recommendations?\\n\\nAgent: Of course! How about \"Secrets & Lies VHS\"? It\\'s a thought-provoking drama directed by Mike Leigh. It delves into the complexities of family relationships and the secrets we keep from each other. It has received positive reviews and is definitely worth watching.\\n\\nUser: That sounds interesting! Tell me more about \"Secrets & Lies VHS\".\\n\\nAgent: \"Secrets & Lies VHS\" follows the story of Hortense, a successful optician who decides to seek out her birth mother, Cynthia. What she discovers is a family dealing with regrets, misunderstandings, and the struggles of their own relationships. The film beautifully captures the nuances of human emotions and provides a compelling narrative. It has been praised for its authentic performances and engaging storytelling.\\n\\nUser: I\\'d love to watch \"Secrets & Lies VHS\". Thanks for the recommendation!\\n\\nAgent: You\\'re welcome! If you need any more recommendations in the future, feel free to ask. Enjoy watching \"Secrets & Lies VHS\"!\\n\\nUser: Thank you so much! I appreciate your help.\\n\\nAgent: It was my pleasure. Have a great time watching the movie! If you have any more questions, feel free to ask. Take care!'), 0.7580444678867209), (Document(metadata={'dialogue_number': '3093'}, page_content='User: Hi there! I recently watched \"The Others\" and I must say it was quite impressive. The suspense and fear were brilliantly portrayed without relying on gore. The visuals were dark but well balanced. The 5.1 sound was also effective. Overall, a great job by Miramax.\\n\\nAgent: That\\'s great to hear! \"The Others\" is indeed a masterpiece. Is there anything specific you would like to know or discuss about the movie?\\n\\nUser: Actually, I was looking for a recommendation. I didn\\'t quite enjoy \"Close Encounters of the Third Kind VHS\" due to the poor visual quality and excessive pixelization. It didn\\'t do justice to the sci-fi classic.\\n\\nAgent: I understand your disappointment with \"Close Encounters of the Third Kind VHS\". Based on your preferences, I would recommend checking out \"Suspicion VHS\". It\\'s a Hitchcock film that keeps you guessing until the end. The mystery and suspense are brilliantly executed.\\n\\nUser: Hmm, I\\'m not sure. Can you give me more details about \"Suspicion VHS\"?\\n\\nAgent: Of course! In \"Suspicion VHS\", you follow the story of a man who finds himself in deep debt and resorts to insurance money, which can only be collected if his wife dies. The movie keeps you guessing until the very last minutes. While some viewers feel the ending is a bit abrupt, it\\'s still considered one of Hitchcock\\'s great films.\\n\\nUser: Alright, I\\'ll give \"Suspicion VHS\" a try. Thanks for the recommendation!\\n\\nAgent: You\\'re welcome! If you need any more recommendations or have any other questions, feel free to ask. Enjoy watching \"Suspicion VHS\"!\\n\\nUser: Thank you so much for your help. I appreciate it!\\n\\nAgent: It was my pleasure assisting you. Have a great day!'), 0.7578906740365046)], error_message=None)"
      ]
     },
     "execution_count": 32,
     "metadata": {},
     "output_type": "execute_result"
    }
   ],
   "source": [
    "ss.search(\"recommend me a mystery movie\")"
   ]
  },
  {
   "cell_type": "code",
   "execution_count": null,
   "id": "a9f69892-3d6f-4791-b909-056e39190eea",
   "metadata": {},
   "outputs": [],
   "source": []
  },
  {
   "cell_type": "code",
   "execution_count": null,
   "id": "78c1a786-4699-4848-bc45-f54503bc8a2c",
   "metadata": {},
   "outputs": [],
   "source": []
  },
  {
   "cell_type": "code",
   "execution_count": null,
   "id": "d870e97f-4581-4801-a288-5b0dc251b044",
   "metadata": {},
   "outputs": [],
   "source": []
  },
  {
   "cell_type": "code",
   "execution_count": null,
   "id": "f6212b02-f3f8-475d-b447-49ba3a2f0431",
   "metadata": {},
   "outputs": [],
   "source": []
  },
  {
   "cell_type": "code",
   "execution_count": null,
   "id": "61e88f9a-ed25-4f52-a8b7-70c8f19b410f",
   "metadata": {},
   "outputs": [],
   "source": []
  },
  {
   "cell_type": "code",
   "execution_count": null,
   "id": "45290e78-8966-46dd-8992-f37149e083ec",
   "metadata": {},
   "outputs": [],
   "source": []
  },
  {
   "cell_type": "code",
   "execution_count": null,
   "id": "1fb6eae0-3cd2-4ff1-8a45-4db749f0f50e",
   "metadata": {},
   "outputs": [],
   "source": []
  },
  {
   "cell_type": "code",
   "execution_count": null,
   "id": "ae9958d2-e4a8-4e43-806f-445853d5265c",
   "metadata": {},
   "outputs": [],
   "source": []
  },
  {
   "cell_type": "code",
   "execution_count": null,
   "id": "ad030292-02e0-4384-a25e-c002abaaef6e",
   "metadata": {},
   "outputs": [],
   "source": []
  }
 ],
 "metadata": {
  "kernelspec": {
   "display_name": "Python 3 (ipykernel)",
   "language": "python",
   "name": "python3"
  },
  "language_info": {
   "codemirror_mode": {
    "name": "ipython",
    "version": 3
   },
   "file_extension": ".py",
   "mimetype": "text/x-python",
   "name": "python",
   "nbconvert_exporter": "python",
   "pygments_lexer": "ipython3",
   "version": "3.10.15"
  }
 },
 "nbformat": 4,
 "nbformat_minor": 5
}
